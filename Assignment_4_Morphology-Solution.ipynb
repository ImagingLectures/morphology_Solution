{
 "cells": [
  {
   "cell_type": "markdown",
   "metadata": {},
   "source": [
    "# Solutions to exercises on morphology"
   ]
  },
  {
   "cell_type": "code",
   "execution_count": null,
   "metadata": {},
   "outputs": [],
   "source": [
    "import numpy as np\n",
    "import matplotlib.pyplot as plt\n",
    "import skimage.morphology as morph\n",
    "import skimage.transform as trans\n",
    "from skimage import measure\n",
    "from scipy import ndimage\n",
    "\n",
    "%matplotlib inline"
   ]
  },
  {
   "cell_type": "markdown",
   "metadata": {},
   "source": [
    "## Basic operations\n",
    "Test the effect of erosion, dilation, open, close on the test\n",
    "image sand_bilevel.png. \n",
    "\n",
    "### Exercise 1\n",
    "Change the size of the structure elements. Hint: use a for-loop and plt.subplot"
   ]
  },
  {
   "cell_type": "code",
   "execution_count": null,
   "metadata": {},
   "outputs": [],
   "source": [
    "img=plt.imread('sand_bilevel.png')\n",
    "plt.imshow(img)\n",
    "N=[3,5,7]"
   ]
  },
  {
   "cell_type": "markdown",
   "metadata": {},
   "source": [
    "#### Erode"
   ]
  },
  {
   "cell_type": "code",
   "execution_count": null,
   "metadata": {},
   "outputs": [],
   "source": [
    "# your code here\n",
    "plt.figure(figsize=[12,4])\n",
    "for idx,n in enumerate(N) :\n",
    "    plt.subplot(1,len(N),idx+1)\n",
    "    plt.imshow(morph.erosion(img,np.ones([n,n])))"
   ]
  },
  {
   "cell_type": "markdown",
   "metadata": {},
   "source": [
    "#### Dilate"
   ]
  },
  {
   "cell_type": "code",
   "execution_count": null,
   "metadata": {},
   "outputs": [],
   "source": [
    "# your code here\n",
    "plt.figure(figsize=[12,4])\n",
    "for idx,n in enumerate(N) :\n",
    "    plt.subplot(1,len(N),idx+1)\n",
    "    plt.imshow(morph.dilation(img,np.ones([n,n])))"
   ]
  },
  {
   "cell_type": "markdown",
   "metadata": {},
   "source": [
    "#### Open"
   ]
  },
  {
   "cell_type": "code",
   "execution_count": null,
   "metadata": {},
   "outputs": [],
   "source": [
    "# your code here\n",
    "plt.figure(figsize=[12,4])\n",
    "for idx,n in enumerate(N) :\n",
    "    plt.subplot(1,len(N),idx+1)\n",
    "    plt.imshow(morph.opening(img,np.ones([n,n])))"
   ]
  },
  {
   "cell_type": "markdown",
   "metadata": {},
   "source": [
    "#### Close"
   ]
  },
  {
   "cell_type": "code",
   "execution_count": null,
   "metadata": {},
   "outputs": [],
   "source": [
    "# your code here\n",
    "plt.figure(figsize=[12,4])\n",
    "for idx,n in enumerate(N) :\n",
    "    plt.subplot(1,len(N),idx+1)\n",
    "    plt.imshow(morph.closing(img,np.ones([n,n])))"
   ]
  },
  {
   "cell_type": "markdown",
   "metadata": {},
   "source": [
    "__Q1.1__: What can happen when the structure element is too large for\n",
    "1. Open\n",
    "2. Close\n",
    "    \n",
    "__Q1.2__: Which morphologic operation would you use to remove misclassified pixels in...\n",
    "1. the pores\n",
    "2. the grains"
   ]
  },
  {
   "cell_type": "markdown",
   "metadata": {},
   "source": [
    "## Distance maps\n",
    "\n",
    "### Exercise 2\n",
    "\n",
    "Compute distance maps of the grains in the sand image using the\n",
    "three metrics Euclidean, City-block, and Chessboard. Compute difference images between the first one\n",
    "and the other two. "
   ]
  },
  {
   "cell_type": "code",
   "execution_count": null,
   "metadata": {},
   "outputs": [],
   "source": [
    "# your code here\n",
    "euclid = ndimage.distance_transform_edt(img)\n",
    "chessd = ndimage.morphology.distance_transform_cdt(img, metric='chessboard')\n",
    "cityd  = ndimage.morphology.distance_transform_cdt(img, metric='taxicab')\n",
    "plt.figure(figsize=[12,8])\n",
    "plt.subplot(2,3,1)\n",
    "plt.imshow(euclid)\n",
    "plt.title('Euclidean distance')\n",
    "\n",
    "plt.subplot(2,3,2)\n",
    "plt.imshow(chessd)\n",
    "plt.title('Chessboard distance')\n",
    "plt.subplot(2,3,5)\n",
    "plt.imshow(chessd-euclid)\n",
    "\n",
    "plt.subplot(2,3,3)\n",
    "plt.imshow(cityd)\n",
    "plt.title('City-block distance')\n",
    "plt.subplot(2,3,6)\n",
    "plt.imshow(cityd-euclid)\n",
    "\n",
    "\n"
   ]
  },
  {
   "cell_type": "markdown",
   "metadata": {},
   "source": [
    "__Q2.1__: What conclusion can you make regarding the\n",
    "accuracy of the two connectivity based metrics compared to the\n",
    "Euclidean metric?\n",
    "\n",
    "Keep the result of the Euclidean distance map for the next exercises."
   ]
  },
  {
   "cell_type": "markdown",
   "metadata": {},
   "source": [
    "### Answer: \n",
    "\n",
    "__Q2.1__: Chess board tend to under estimate the distance while city-block rather over estimate the distance."
   ]
  },
  {
   "cell_type": "markdown",
   "metadata": {},
   "source": [
    "## Local extrema\n",
    "\n",
    "Compute the distance maps of both grains and pore space in the\n",
    "sand image and combine them into one image as\n",
    "\n",
    "$g=D_{\\mathcal{E}}(f^c)-D_{\\mathcal{E}}(f)$"
   ]
  },
  {
   "cell_type": "code",
   "execution_count": null,
   "metadata": {},
   "outputs": [],
   "source": [
    "# your code here\n",
    "g =  ndimage.distance_transform_edt(1-img) - ndimage.distance_transform_edt(img)\n",
    "plt.imshow(g)"
   ]
  },
  {
   "cell_type": "markdown",
   "metadata": {},
   "source": [
    "### Exercise 3 \n",
    "Test the palette of local extrema functions (emin,emax,hmin,hmax) on $g$.\n",
    "\n",
    "__Q3.1__: What happens when you set $h$=5 resp. $h$=10?\n",
    "\n",
    "__Q3.2__: Why are there more maxima than minima for these h values?"
   ]
  },
  {
   "cell_type": "code",
   "execution_count": null,
   "metadata": {},
   "outputs": [],
   "source": [
    "# your code here\n",
    "hh=[5,10]\n",
    "plt.figure(figsize=(12,8))\n",
    "for idx,h in enumerate(hh) :\n",
    "    plt.subplot(len(hh),4,1+idx*4)\n",
    "    plt.imshow(morph.local_minima(g))\n",
    "    plt.title('EMin')\n",
    "    plt.subplot(len(hh),4,2+idx*4)\n",
    "    plt.imshow(morph.local_maxima(g))\n",
    "    plt.title('EMax')\n",
    "    plt.subplot(len(hh),4,3+idx*4)\n",
    "    plt.imshow(morph.h_minima(g,h=h))\n",
    "    plt.title('hMin h={0}'.format(h))\n",
    "    plt.subplot(len(hh),4,4+idx*4)\n",
    "    plt.imshow(morph.h_maxima(g,h=h))\n",
    "    plt.title('hMin h={0}'.format(h))\n",
    "    "
   ]
  },
  {
   "cell_type": "markdown",
   "metadata": {},
   "source": [
    "### Answers\n",
    "\n",
    "__Q3.1__: Less extrema are found when h increases because there are less locations that fit a disc with radius 10 within the item.\n",
    "\n",
    "__Q3.2__: The pore space is more complex and provides more local extrema."
   ]
  },
  {
   "cell_type": "markdown",
   "metadata": {},
   "source": [
    "## Watershed segmentation\n",
    "Reading: http://scikit-image.org/docs/dev/api/skimage.morphology.html?highlight=watershed#skimage.morphology.watershed\n",
    "and \n",
    "http://www.scipy-lectures.org/packages/scikit-image/auto_examples/plot_segmentations.html\n",
    "\n",
    "### Exercise 4\n",
    "To segment a binary image with WS you have to compute it's\n",
    "distance map (hopefully already done as image $g$ in exercise 4). You also need a marker image that tells the algorithm where to start. I suggest using h_maxima to find the markers.\n",
    "\n",
    "Show the labeled image with a colormap that makes it possible to identify neighbors. This can be hard with the default colormap. \n",
    "\n",
    "__Q4__: What happens when you change the value of $h$ when you create the marker image?"
   ]
  },
  {
   "cell_type": "code",
   "execution_count": null,
   "metadata": {},
   "outputs": [],
   "source": [
    "distance = ndimage.distance_transform_edt(img)\n",
    "h=3 # what happens when h is changed?\n",
    "plt.figure(figsize=[15,4])\n",
    "plt.subplot(1,3,1)\n",
    "plt.imshow(img)\n",
    "plt.title('Bilevel input image')\n",
    "plt.subplot(1,3,2)\n",
    "local_maxi=morph.h_maxima(distance,h)\n",
    "markers = measure.label(local_maxi)\n",
    "plt.imshow(markers)\n",
    "plt.title('Markers')\n",
    "plt.subplot(1,3,3)\n",
    "labels_ws = morph.watershed(-distance, markers, mask=img)\n",
    "plt.imshow(labels_ws,cmap=plt.get_cmap('tab20'))\n",
    "plt.title('Watershed segmented grains')"
   ]
  },
  {
   "cell_type": "markdown",
   "metadata": {},
   "source": [
    "### Answer\n",
    "\n",
    "__Q4__: Small values of h result over segmentation and larger values of h under segmentation."
   ]
  },
  {
   "cell_type": "code",
   "execution_count": null,
   "metadata": {},
   "outputs": [],
   "source": []
  }
 ],
 "metadata": {
  "kernelspec": {
   "display_name": "Python 3",
   "language": "python",
   "name": "python3"
  },
  "language_info": {
   "codemirror_mode": {
    "name": "ipython",
    "version": 3
   },
   "file_extension": ".py",
   "mimetype": "text/x-python",
   "name": "python",
   "nbconvert_exporter": "python",
   "pygments_lexer": "ipython3",
   "version": "3.7.3"
  }
 },
 "nbformat": 4,
 "nbformat_minor": 4
}
